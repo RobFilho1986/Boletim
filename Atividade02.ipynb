{
  "cells": [
    {
      "cell_type": "markdown",
      "metadata": {
        "id": "view-in-github",
        "colab_type": "text"
      },
      "source": [
        "<a href=\"https://colab.research.google.com/github/RobFilho1986/Boletim/blob/main/Atividade02.ipynb\" target=\"_parent\"><img src=\"https://colab.research.google.com/assets/colab-badge.svg\" alt=\"Open In Colab\"/></a>"
      ]
    },
    {
      "cell_type": "markdown",
      "source": [
        "DM - Atividade 02 - Aventura no Supermercado dos Dados!"
      ],
      "metadata": {
        "id": "1v-dvrEmeceo"
      }
    },
    {
      "cell_type": "code",
      "source": [
        "import pandas as pd\n",
        "\n",
        "df = pd.read_csv('/content/supermarket_sales.csv')"
      ],
      "metadata": {
        "id": "lnwj3YK9eb3a"
      },
      "execution_count": 14,
      "outputs": []
    },
    {
      "cell_type": "code",
      "source": [
        "print (df.head())"
      ],
      "metadata": {
        "id": "K4xUiLzcspbQ",
        "outputId": "d6f3dad6-e569-45b4-9311-fe49bc5e0b6b",
        "colab": {
          "base_uri": "https://localhost:8080/"
        }
      },
      "execution_count": 15,
      "outputs": [
        {
          "output_type": "stream",
          "name": "stdout",
          "text": [
            "    Invoice ID Branch       City Customer type  Gender  \\\n",
            "0  750-67-8428      A     Yangon        Member  Female   \n",
            "1  226-31-3081      C  Naypyitaw        Normal  Female   \n",
            "2  631-41-3108      A     Yangon        Normal    Male   \n",
            "3  123-19-1176      A     Yangon        Member    Male   \n",
            "4  373-73-7910      A     Yangon        Normal    Male   \n",
            "\n",
            "             Product line  Unit price  Quantity   Tax 5%     Total       Date  \\\n",
            "0       Health and beauty       74.69         7  26.1415  548.9715   1/5/2019   \n",
            "1  Electronic accessories       15.28         5   3.8200   80.2200   3/8/2019   \n",
            "2      Home and lifestyle       46.33         7  16.2155  340.5255   3/3/2019   \n",
            "3       Health and beauty       58.22         8  23.2880  489.0480  1/27/2019   \n",
            "4       Sports and travel       86.31         7  30.2085  634.3785   2/8/2019   \n",
            "\n",
            "    Time      Payment    cogs  gross margin percentage  gross income  Rating  \n",
            "0  13:08      Ewallet  522.83                 4.761905       26.1415     9.1  \n",
            "1  10:29         Cash   76.40                 4.761905        3.8200     9.6  \n",
            "2  13:23  Credit card  324.31                 4.761905       16.2155     7.4  \n",
            "3  20:33      Ewallet  465.76                 4.761905       23.2880     8.4  \n",
            "4  10:37      Ewallet  604.17                 4.761905       30.2085     5.3  \n"
          ]
        }
      ]
    },
    {
      "cell_type": "code",
      "source": [
        "df.info()"
      ],
      "metadata": {
        "id": "stbDQKktwHWe",
        "outputId": "6e3386bd-8fa1-4663-fa58-bb83808bb50e",
        "colab": {
          "base_uri": "https://localhost:8080/"
        }
      },
      "execution_count": 10,
      "outputs": [
        {
          "output_type": "stream",
          "name": "stdout",
          "text": [
            "<class 'pandas.core.frame.DataFrame'>\n",
            "RangeIndex: 1000 entries, 0 to 999\n",
            "Data columns (total 17 columns):\n",
            " #   Column                   Non-Null Count  Dtype \n",
            "---  ------                   --------------  ----- \n",
            " 0   Invoice ID               1000 non-null   object\n",
            " 1   Branch                   1000 non-null   object\n",
            " 2   City                     1000 non-null   object\n",
            " 3   Customer type            1000 non-null   object\n",
            " 4   Gender                   1000 non-null   object\n",
            " 5   Product line             1000 non-null   object\n",
            " 6   Unit price               1000 non-null   object\n",
            " 7   Quantity                 1000 non-null   int64 \n",
            " 8   Tax 5%                   1000 non-null   object\n",
            " 9   Total                    1000 non-null   object\n",
            " 10  Date                     1000 non-null   object\n",
            " 11  Time                     1000 non-null   object\n",
            " 12  Payment                  1000 non-null   object\n",
            " 13  cogs                     1000 non-null   object\n",
            " 14  gross margin percentage  1000 non-null   int64 \n",
            " 15  gross income             1000 non-null   object\n",
            " 16  Rating                   1000 non-null   object\n",
            "dtypes: int64(2), object(15)\n",
            "memory usage: 132.9+ KB\n"
          ]
        }
      ]
    },
    {
      "cell_type": "markdown",
      "source": [
        "Calcule a média da coluna \"Unit Price\" para descobrir o valor médio dos produtos vendidos."
      ],
      "metadata": {
        "id": "wdyAvT_mt_IQ"
      }
    },
    {
      "cell_type": "code",
      "source": [
        "mean_unit_price = df['Unit price'].mean()\n",
        "print(f\"Média do 'Unit Price': {mean_unit_price:.2f}\")"
      ],
      "metadata": {
        "id": "iWZ_qbNHuE_Q",
        "outputId": "fa0bfa3e-a2cc-4c8a-a6a2-3f113fccb7e0",
        "colab": {
          "base_uri": "https://localhost:8080/"
        }
      },
      "execution_count": 16,
      "outputs": [
        {
          "output_type": "stream",
          "name": "stdout",
          "text": [
            "Média do 'Unit Price': 55.67\n"
          ]
        }
      ]
    },
    {
      "cell_type": "markdown",
      "source": [
        "Encontre o desvio padrão da coluna \"Unit Price\" para entender a variação dos preços no supermercado."
      ],
      "metadata": {
        "id": "S7cRU6O-xaw_"
      }
    },
    {
      "cell_type": "code",
      "source": [
        "std_unit_price = df['Unit price'].std()\n",
        "print(f\"Desvio padrão do 'Unit Price': {std_unit_price:.2f}\")"
      ],
      "metadata": {
        "id": "ReqiDku4xfZG",
        "outputId": "050bdd7c-1907-48ec-af07-a9f9d6837795",
        "colab": {
          "base_uri": "https://localhost:8080/"
        }
      },
      "execution_count": 17,
      "outputs": [
        {
          "output_type": "stream",
          "name": "stdout",
          "text": [
            "Desvio padrão do 'Unit Price': 26.49\n"
          ]
        }
      ]
    },
    {
      "cell_type": "markdown",
      "source": [
        "Conte quantas linhas estão acima e abaixo da média da coluna \"Unit Price\", revelando a distribuição dos preços em relação à média."
      ],
      "metadata": {
        "id": "9h6iNk8YxkZP"
      }
    },
    {
      "cell_type": "code",
      "source": [
        "above_mean_count = df[df['Unit price'] > mean_unit_price].shape[0]\n",
        "below_mean_count = df[df['Unit price'] < mean_unit_price].shape[0]\n",
        "\n",
        "print(f\"Linhas acima da média: {above_mean_count}\")\n",
        "print(f\"Linhas abaixo da média: {below_mean_count}\")"
      ],
      "metadata": {
        "id": "yNEj_kBhxmj-",
        "outputId": "084a8846-79d4-4607-ddb4-19aeba695cbf",
        "colab": {
          "base_uri": "https://localhost:8080/"
        }
      },
      "execution_count": 18,
      "outputs": [
        {
          "output_type": "stream",
          "name": "stdout",
          "text": [
            "Linhas acima da média: 494\n",
            "Linhas abaixo da média: 506\n"
          ]
        }
      ]
    },
    {
      "cell_type": "markdown",
      "source": [
        "Calcule a mediana da coluna \"Unit Price\" para encontrar o valor que divide os preços em duas metades iguais."
      ],
      "metadata": {
        "id": "3i7ftvRwxsxo"
      }
    },
    {
      "cell_type": "code",
      "source": [
        "median_unit_price = df['Unit price'].median()\n",
        "print(f\"Mediana do 'Unit Price': {median_unit_price:.2f}\")"
      ],
      "metadata": {
        "id": "oTr4Wq4kxqMY",
        "outputId": "e67ba39f-149e-467b-bfd6-4080e55cffd5",
        "colab": {
          "base_uri": "https://localhost:8080/"
        }
      },
      "execution_count": 19,
      "outputs": [
        {
          "output_type": "stream",
          "name": "stdout",
          "text": [
            "Mediana do 'Unit Price': 55.23\n"
          ]
        }
      ]
    },
    {
      "cell_type": "markdown",
      "source": [
        "Conte quantas linhas estão acima e abaixo da mediana da coluna \"Unit Price\", revelando a distribuição dos preços em relação à mediana."
      ],
      "metadata": {
        "id": "j4EO0scUxxO4"
      }
    },
    {
      "cell_type": "code",
      "source": [
        "above_median_count = df[df['Unit price'] > median_unit_price].shape[0]\n",
        "below_median_count = df[df['Unit price'] < median_unit_price].shape[0]\n",
        "\n",
        "print(f\"Linhas acima da mediana: {above_median_count}\")\n",
        "print(f\"Linhas abaixo da mediana: {below_median_count}\")"
      ],
      "metadata": {
        "id": "_kkihLtVxwzQ",
        "outputId": "16566c22-e90f-4942-a082-785af84ec6a9",
        "colab": {
          "base_uri": "https://localhost:8080/"
        }
      },
      "execution_count": 20,
      "outputs": [
        {
          "output_type": "stream",
          "name": "stdout",
          "text": [
            "Linhas acima da mediana: 500\n",
            "Linhas abaixo da mediana: 500\n"
          ]
        }
      ]
    }
  ],
  "metadata": {
    "colab": {
      "name": "Olá, este é o Colaboratory",
      "provenance": [],
      "include_colab_link": true
    },
    "kernelspec": {
      "display_name": "Python 3",
      "name": "python3"
    }
  },
  "nbformat": 4,
  "nbformat_minor": 0
}