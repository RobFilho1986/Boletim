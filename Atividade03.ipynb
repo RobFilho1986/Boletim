{
  "cells": [
    {
      "cell_type": "markdown",
      "metadata": {
        "id": "view-in-github",
        "colab_type": "text"
      },
      "source": [
        "<a href=\"https://colab.research.google.com/github/RobFilho1986/Boletim/blob/main/Atividade03.ipynb\" target=\"_parent\"><img src=\"https://colab.research.google.com/assets/colab-badge.svg\" alt=\"Open In Colab\"/></a>"
      ]
    },
    {
      "cell_type": "markdown",
      "source": [
        "DM - Atividade 03 - Desvendando o Enigma do Prouni: Uma Caça ao Tesouro Acadêmica!\n",
        "\n"
      ],
      "metadata": {
        "id": "nn8rjgzQ0dAy"
      }
    },
    {
      "cell_type": "code",
      "source": [
        "\n",
        "import pandas as pd\n",
        "\n",
        "df = pd.read_csv('https://raw.githubusercontent.com/mrafaelbatista/uniesp_dmie232/main/databases/cursos-prouni-pb-jpa.csv')\n",
        "\n",
        "print (df.head())\n",
        ""
      ],
      "metadata": {
        "id": "glnGidvO0hvS",
        "outputId": "cbd71975-ca67-4f68-e36b-36a8501a8863",
        "colab": {
          "base_uri": "https://localhost:8080/"
        }
      },
      "execution_count": 21,
      "outputs": [
        {
          "output_type": "stream",
          "name": "stdout",
          "text": [
            "  uf_busca cidade_busca                                  universidade_nome  \\\n",
            "0       PB  Joao Pessoa  Centro Universitário de João Pessoa - Unipê - ...   \n",
            "1       PB  Joao Pessoa  Centro Universitário Internacional - Uninter -...   \n",
            "2       PB  Joao Pessoa  Centro Universitário Internacional - Uninter -...   \n",
            "3       PB  Joao Pessoa                 Faculdade Devry João Pessoa - DVJP   \n",
            "4       PB  Joao Pessoa                 Faculdade Devry João Pessoa - DVJP   \n",
            "\n",
            "                            campus_nome           nome         grau  \\\n",
            "0              CAMPUS UNIPÊ - Água Fria  Administração  Bacharelado   \n",
            "1          PAP JOÃO PESSOA 01 - Miramar  Administração  Bacharelado   \n",
            "2  PAP JOÃO PESSOA 02 - Expedicionários  Administração  Bacharelado   \n",
            "3                 CAMPUS SEDE - Miramar  Administração  Bacharelado   \n",
            "4                 CAMPUS SEDE - Miramar  Administração  Bacharelado   \n",
            "\n",
            "               turno  mensalidade  bolsa_integral_cotas  bolsa_integral_ampla  \\\n",
            "0           Matutino       529.00                   5.0                   4.0   \n",
            "1  Curso a Distância       298.00                   1.0                   NaN   \n",
            "2  Curso a Distância       298.00                   NaN                   NaN   \n",
            "3            Noturno       864.67                   NaN                   NaN   \n",
            "4           Matutino       864.67                   NaN                   NaN   \n",
            "\n",
            "   bolsa_parcial_cotas  bolsa_parcial_ampla  nota_integral_ampla  \\\n",
            "0                  NaN                  NaN               609.94   \n",
            "1                  NaN                  NaN               582.64   \n",
            "2                  1.0                  NaN                  NaN   \n",
            "3                  NaN                100.0                  NaN   \n",
            "4                  NaN                100.0                  NaN   \n",
            "\n",
            "   nota_integral_cotas  nota_parcial_ampla  nota_parcial_cotas  \n",
            "0                607.2                 NaN                 NaN  \n",
            "1                  NaN                 NaN                 NaN  \n",
            "2                  NaN               547.8                 NaN  \n",
            "3                  NaN               450.0                 NaN  \n",
            "4                  NaN               450.0                 NaN  \n"
          ]
        }
      ]
    },
    {
      "cell_type": "markdown",
      "source": [
        "Conte cada coluna da base de dados para descobrir a extensão desse tesouro."
      ],
      "metadata": {
        "id": "5IABbRtt01hr"
      }
    },
    {
      "cell_type": "code",
      "source": [
        "# Contar o número total de colunas\n",
        "num_colunas = len(df.columns)\n",
        "print(f\"Total de colunas na base de dados: {num_colunas}\\n\")\n",
        "\n",
        "# Listar todas as colunas\n",
        "print(\"Nomes das colunas:\")\n",
        "for i, coluna in enumerate(df.columns, start=1):\n",
        "    print(f\"{i}. {coluna}\")"
      ],
      "metadata": {
        "id": "GzgdczRk01SD",
        "outputId": "1099990a-1ba6-4cda-c6d4-f83a507e9da8",
        "colab": {
          "base_uri": "https://localhost:8080/"
        }
      },
      "execution_count": 22,
      "outputs": [
        {
          "output_type": "stream",
          "name": "stdout",
          "text": [
            "Total de colunas na base de dados: 16\n",
            "\n",
            "Nomes das colunas:\n",
            "1. uf_busca\n",
            "2. cidade_busca\n",
            "3. universidade_nome\n",
            "4. campus_nome\n",
            "5. nome\n",
            "6. grau\n",
            "7. turno\n",
            "8. mensalidade\n",
            "9. bolsa_integral_cotas\n",
            "10. bolsa_integral_ampla\n",
            "11. bolsa_parcial_cotas\n",
            "12. bolsa_parcial_ampla\n",
            "13. nota_integral_ampla\n",
            "14. nota_integral_cotas\n",
            "15. nota_parcial_ampla\n",
            "16. nota_parcial_cotas\n"
          ]
        }
      ]
    },
    {
      "cell_type": "markdown",
      "source": [
        "Identifique se há uma coluna específica que representa o objetivo principal da análise (por exemplo, \"bolsa concedida\" ou \"nota de corte\")."
      ],
      "metadata": {
        "id": "-1A8WyhN2JCm"
      }
    },
    {
      "cell_type": "code",
      "source": [
        "# Selecionar colunas relacionadas a bolsas concedidas\n",
        "bolsa_cols = ['bolsa_integral_cotas', 'bolsa_integral_ampla',\n",
        "              'bolsa_parcial_cotas', 'bolsa_parcial_ampla']\n",
        "\n",
        "# Exibir as primeiras linhas dessas colunas\n",
        "print(\"\\nDados das Colunas de Bolsas Concedidas:\")\n",
        "print(df[bolsa_cols].head())\n",
        "\n",
        "# Selecionar colunas relacionadas a notas de corte\n",
        "nota_cols = ['nota_integral_ampla', 'nota_integral_cotas',\n",
        "            'nota_parcial_ampla', 'nota_parcial_cotas']\n",
        "\n",
        "# Exibir as primeiras linhas dessas colunas\n",
        "print(\"\\nDados das Colunas de Notas de Corte:\")\n",
        "print(df[nota_cols].head())\n",
        "\n",
        "# Estatísticas das Colunas de Bolsas Concedidas\n",
        "print(\"\\nEstatísticas das Bolsas Concedidas:\")\n",
        "print(df[bolsa_cols].describe())"
      ],
      "metadata": {
        "id": "iOJBeoiI2Qnu",
        "outputId": "c80386c1-4284-44e9-817f-b45596931574",
        "colab": {
          "base_uri": "https://localhost:8080/"
        }
      },
      "execution_count": 26,
      "outputs": [
        {
          "output_type": "stream",
          "name": "stdout",
          "text": [
            "\n",
            "Dados das Colunas de Bolsas Concedidas:\n",
            "   bolsa_integral_cotas  bolsa_integral_ampla  bolsa_parcial_cotas  \\\n",
            "0                   5.0                   4.0                  NaN   \n",
            "1                   1.0                   NaN                  NaN   \n",
            "2                   NaN                   NaN                  1.0   \n",
            "3                   NaN                   NaN                  NaN   \n",
            "4                   NaN                   NaN                  NaN   \n",
            "\n",
            "   bolsa_parcial_ampla  \n",
            "0                  NaN  \n",
            "1                  NaN  \n",
            "2                  NaN  \n",
            "3                100.0  \n",
            "4                100.0  \n",
            "\n",
            "Dados das Colunas de Notas de Corte:\n",
            "   nota_integral_ampla  nota_integral_cotas  nota_parcial_ampla  \\\n",
            "0               609.94                607.2                 NaN   \n",
            "1               582.64                  NaN                 NaN   \n",
            "2                  NaN                  NaN               547.8   \n",
            "3                  NaN                  NaN               450.0   \n",
            "4                  NaN                  NaN               450.0   \n",
            "\n",
            "   nota_parcial_cotas  \n",
            "0                 NaN  \n",
            "1                 NaN  \n",
            "2                 NaN  \n",
            "3                 NaN  \n",
            "4                 NaN  \n",
            "\n",
            "Estatísticas das Bolsas Concedidas:\n",
            "       bolsa_integral_cotas  bolsa_integral_ampla  bolsa_parcial_cotas  \\\n",
            "count            296.000000            211.000000            53.000000   \n",
            "mean               2.337838              2.881517             1.094340   \n",
            "std                1.758482              3.597643             0.563784   \n",
            "min                0.000000              1.000000             1.000000   \n",
            "25%                1.000000              1.000000             1.000000   \n",
            "50%                2.000000              2.000000             1.000000   \n",
            "75%                3.000000              2.000000             1.000000   \n",
            "max               16.000000             18.000000             5.000000   \n",
            "\n",
            "       bolsa_parcial_ampla  \n",
            "count            53.000000  \n",
            "mean             38.943396  \n",
            "std              27.161494  \n",
            "min               1.000000  \n",
            "25%              20.000000  \n",
            "50%              40.000000  \n",
            "75%              50.000000  \n",
            "max             100.000000  \n"
          ]
        }
      ]
    },
    {
      "cell_type": "code",
      "source": [
        "# Selecionar colunas relacionadas a notas de corte\n",
        "nota_cols = ['nota_integral_ampla', 'nota_integral_cotas',\n",
        "            'nota_parcial_ampla', 'nota_parcial_cotas']\n",
        "\n",
        "# Exibir as primeiras linhas dessas colunas\n",
        "print(\"\\nDados das Colunas de Notas de Corte:\")\n",
        "print(df[nota_cols].head())\n",
        "\n",
        "# Estatísticas das Colunas de Bolsas Concedidas\n",
        "print(\"\\nEstatísticas das Bolsas Concedidas:\")\n",
        "print(df[bolsa_cols].describe())\n",
        "\n",
        "# Estatísticas das Colunas de Notas de Corte\n",
        "print(\"\\nEstatísticas das Notas de Corte:\")\n",
        "print(df[nota_cols].describe())"
      ],
      "metadata": {
        "id": "39cfqaD53KBg",
        "outputId": "ea779417-4076-43c2-d7d3-02ed64969257",
        "colab": {
          "base_uri": "https://localhost:8080/"
        }
      },
      "execution_count": 28,
      "outputs": [
        {
          "output_type": "stream",
          "name": "stdout",
          "text": [
            "\n",
            "Dados das Colunas de Notas de Corte:\n",
            "   nota_integral_ampla  nota_integral_cotas  nota_parcial_ampla  \\\n",
            "0               609.94                607.2                 NaN   \n",
            "1               582.64                  NaN                 NaN   \n",
            "2                  NaN                  NaN               547.8   \n",
            "3                  NaN                  NaN               450.0   \n",
            "4                  NaN                  NaN               450.0   \n",
            "\n",
            "   nota_parcial_cotas  \n",
            "0                 NaN  \n",
            "1                 NaN  \n",
            "2                 NaN  \n",
            "3                 NaN  \n",
            "4                 NaN  \n",
            "\n",
            "Estatísticas das Bolsas Concedidas:\n",
            "       bolsa_integral_cotas  bolsa_integral_ampla  bolsa_parcial_cotas  \\\n",
            "count            296.000000            211.000000            53.000000   \n",
            "mean               2.337838              2.881517             1.094340   \n",
            "std                1.758482              3.597643             0.563784   \n",
            "min                0.000000              1.000000             1.000000   \n",
            "25%                1.000000              1.000000             1.000000   \n",
            "50%                2.000000              2.000000             1.000000   \n",
            "75%                3.000000              2.000000             1.000000   \n",
            "max               16.000000             18.000000             5.000000   \n",
            "\n",
            "       bolsa_parcial_ampla  \n",
            "count            53.000000  \n",
            "mean             38.943396  \n",
            "std              27.161494  \n",
            "min               1.000000  \n",
            "25%              20.000000  \n",
            "50%              40.000000  \n",
            "75%              50.000000  \n",
            "max             100.000000  \n",
            "\n",
            "Estatísticas das Notas de Corte:\n",
            "       nota_integral_ampla  nota_integral_cotas  nota_parcial_ampla  \\\n",
            "count           296.000000           210.000000           99.000000   \n",
            "mean            593.891757           583.790095          519.138384   \n",
            "std              39.803849            38.526779           58.232659   \n",
            "min             450.000000           450.000000          450.000000   \n",
            "25%             567.800000           561.650000          450.000000   \n",
            "50%             591.510000           579.780000          524.020000   \n",
            "75%             617.050000           604.415000          559.510000   \n",
            "max             764.320000           743.760000          748.780000   \n",
            "\n",
            "       nota_parcial_cotas  \n",
            "count            7.000000  \n",
            "mean           580.368571  \n",
            "std             75.895364  \n",
            "min            488.320000  \n",
            "25%            543.990000  \n",
            "50%            569.300000  \n",
            "75%            594.700000  \n",
            "max            727.580000  \n"
          ]
        }
      ]
    },
    {
      "cell_type": "markdown",
      "source": [
        "Para cada coluna numérica, calcule a média (o valor central), a mediana (o valor que divide os dados ao meio) e o desvio padrão (a medida de dispersão dos dados). Essas estatísticas revelarão características importantes sobre os bolsistas do Prouni, como renda familiar, notas de corte e muito mais."
      ],
      "metadata": {
        "id": "KdHCH_wa3es4"
      }
    },
    {
      "cell_type": "code",
      "source": [
        "# Selecionar apenas colunas numéricas\n",
        "numerical_cols = df.select_dtypes(include=['float64', 'int64']).columns\n",
        "\n",
        "# Criar um DataFrame para armazenar as estatísticas\n",
        "stats_df = pd.DataFrame(columns=['Média', 'Mediana', 'Desvio Padrão'])\n",
        "\n",
        "# Calcular estatísticas para cada coluna numérica\n",
        "for col in numerical_cols:\n",
        "    stats_df.loc[col] = [\n",
        "        df[col].mean(),       # Média\n",
        "        df[col].median(),     # Mediana\n",
        "        df[col].std()         # Desvio Padrão\n",
        "    ]\n",
        "\n",
        "# Exibir as estatísticas\n",
        "print(\"Estatísticas das Colunas Numéricas:\")\n",
        "print(stats_df)"
      ],
      "metadata": {
        "id": "Utx-NgI73dPg",
        "outputId": "19e20160-5c9e-4f16-a5b8-0b5a2b28b8e6",
        "colab": {
          "base_uri": "https://localhost:8080/"
        }
      },
      "execution_count": 29,
      "outputs": [
        {
          "output_type": "stream",
          "name": "stdout",
          "text": [
            "Estatísticas das Colunas Numéricas:\n",
            "                           Média  Mediana  Desvio Padrão\n",
            "mensalidade           663.361278   492.39     757.189434\n",
            "bolsa_integral_cotas    2.337838     2.00       1.758482\n",
            "bolsa_integral_ampla    2.881517     2.00       3.597643\n",
            "bolsa_parcial_cotas     1.094340     1.00       0.563784\n",
            "bolsa_parcial_ampla    38.943396    40.00      27.161494\n",
            "nota_integral_ampla   593.891757   591.51      39.803849\n",
            "nota_integral_cotas   583.790095   579.78      38.526779\n",
            "nota_parcial_ampla    519.138384   524.02      58.232659\n",
            "nota_parcial_cotas    580.368571   569.30      75.895364\n"
          ]
        }
      ]
    },
    {
      "cell_type": "markdown",
      "source": [
        "Investigue a coluna de cursos e descubra quais áreas do conhecimento são as mais populares entre os candidatos."
      ],
      "metadata": {
        "id": "0hRv5WDU3iGI"
      }
    },
    {
      "cell_type": "code",
      "source": [
        "curso_counts = df['nome'].value_counts()\n",
        "\n",
        "# Exibir os cursos mais populares\n",
        "print(\"Cursos mais populares entre os candidatos:\")\n",
        "print(curso_counts.head(10))"
      ],
      "metadata": {
        "id": "XWpyIaoO3kfI",
        "outputId": "eb1b5d87-cf20-4b9f-b475-cf6535c2810c",
        "colab": {
          "base_uri": "https://localhost:8080/"
        }
      },
      "execution_count": 35,
      "outputs": [
        {
          "output_type": "stream",
          "name": "stdout",
          "text": [
            "Cursos mais populares entre os candidatos:\n",
            "nome\n",
            "Administração                 23\n",
            "Ciências Contábeis            19\n",
            "Enfermagem                    15\n",
            "Direito                       15\n",
            "Gestão de Recursos Humanos    14\n",
            "Educação Física               12\n",
            "Engenharia Civil              12\n",
            "Fisioterapia                  11\n",
            "Pedagogia                     11\n",
            "Logística                     10\n",
            "Name: count, dtype: int64\n"
          ]
        }
      ]
    }
  ],
  "metadata": {
    "colab": {
      "name": "Olá, este é o Colaboratory",
      "provenance": [],
      "include_colab_link": true
    },
    "kernelspec": {
      "display_name": "Python 3",
      "name": "python3"
    }
  },
  "nbformat": 4,
  "nbformat_minor": 0
}