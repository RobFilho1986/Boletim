{
  "cells": [
    {
      "cell_type": "markdown",
      "metadata": {
        "id": "view-in-github",
        "colab_type": "text"
      },
      "source": [
        "<a href=\"https://colab.research.google.com/github/RobFilho1986/Boletim/blob/main/C%C3%B3pia_de_Ol%C3%A1%2C_este_%C3%A9_o_Colaboratory.ipynb\" target=\"_parent\"><img src=\"https://colab.research.google.com/assets/colab-badge.svg\" alt=\"Open In Colab\"/></a>"
      ]
    },
    {
      "cell_type": "markdown",
      "source": [
        "# DM - Atividade 01 - Eleições"
      ],
      "metadata": {
        "id": "b9xvTD8NYE9E"
      }
    },
    {
      "cell_type": "code",
      "source": [
        "import pandas as pd\n",
        "\n",
        "# Criando o DataFrame\n",
        "x = pd.DataFrame({\n",
        "    'eleitores': [20, 33, 48, 50, 103],\n",
        "    'votos_validos': [9, 31, 42, 32, 30]\n",
        "})\n",
        "\n",
        "# Calculando média, mediana e desvio padrão\n",
        "media_votos_validos = x['votos_validos'].mean()\n",
        "mediana_votos_validos = x['votos_validos'].median()\n",
        "desvio_padrao_votos_validos = x['votos_validos'].std()\n",
        "\n",
        "# Exibindo os resultados\n",
        "print(f'Média dos votos válidos: {media_votos_validos}')\n",
        "print(f'Mediana dos votos válidos: {mediana_votos_validos}')\n",
        "print(f'Desvio padrão dos votos válidos: {desvio_padrao_votos_validos}')"
      ],
      "metadata": {
        "colab": {
          "base_uri": "https://localhost:8080/"
        },
        "id": "FKNHuvyeYGnM",
        "outputId": "651f1979-0585-4e19-fcd0-cb2b87414f0c"
      },
      "execution_count": null,
      "outputs": [
        {
          "output_type": "stream",
          "name": "stdout",
          "text": [
            "Média dos votos válidos: 28.8\n",
            "Mediana dos votos válidos: 31.0\n",
            "Desvio padrão dos votos válidos: 12.070625501605127\n"
          ]
        }
      ]
    }
  ],
  "metadata": {
    "colab": {
      "toc_visible": true,
      "provenance": [],
      "include_colab_link": true
    },
    "kernelspec": {
      "display_name": "Python 3",
      "name": "python3"
    }
  },
  "nbformat": 4,
  "nbformat_minor": 0
}